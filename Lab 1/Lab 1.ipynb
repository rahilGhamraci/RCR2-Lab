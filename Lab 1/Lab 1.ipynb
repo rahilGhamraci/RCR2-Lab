{
 "cells": [
  {
   "cell_type": "markdown",
   "metadata": {},
   "source": [
    "Dempster-Shafe Theory"
   ]
  },
  {
   "cell_type": "code",
   "execution_count": 25,
   "metadata": {},
   "outputs": [
    {
     "name": "stdout",
     "output_type": "stream",
     "text": [
      "m1: {{'a'}:0.4; {'c', 'a', 'b'}:0.3; {'b'}:0.2; {'a', 'b'}:0.1}\n",
      "m1: bpa of {'a','b'}= 0.1\n",
      "m1: belief of {'a','b'}= 0.7000000000000001\n",
      "m1: plausibility of {'a','b'}= 1.0\n",
      "m1: commonality of {'a','b'}= 0.4\n",
      "m2: {{'b'}:0.5; {'c', 'a'}:0.3; {'c'}:0.2; {'a'}:0.0}\n",
      "m2: bpa of {'b'}= 0.5\n",
      "m2: belief of {'b'}= 0.5\n",
      "m2: plausibility of {'b'}= 0.5\n",
      "m2: commonality of {'b'}= 0.5\n"
     ]
    }
   ],
   "source": [
    "# testing the lib with an exemple provided in the github https://github.com/reineking/pyds/blob/master/examples.py\n",
    "from pyds import MassFunction\n",
    "\n",
    "m1 = MassFunction({'a':0.4, 'b':0.2, 'ab':0.1, 'abc':0.3})\n",
    "m2 = MassFunction({'b':0.5, 'c':0.2, 'ac':0.3, 'a':0.0})\n",
    "print(\"m1:\",m1)\n",
    "print(\"m1: bpa of {'a','b'}=\", m1['ab'])\n",
    "print(\"m1: belief of {'a','b'}=\", m1.bel('ab'))\n",
    "print(\"m1: plausibility of {'a','b'}=\", m1.pl('ab'))\n",
    "print(\"m1: commonality of {'a','b'}=\", m1.q('ab'))\n",
    "print(\"m2:\",m2)\n",
    "print(\"m2: bpa of {'b'}=\", m2['b'])\n",
    "print(\"m2: belief of {'b'}=\", m2.bel('b'))\n",
    "print(\"m2: plausibility of {'b'}=\", m2.pl('b'))\n",
    "print(\"m2: commonality of {'b'}=\", m2.q('b'))"
   ]
  },
  {
   "cell_type": "markdown",
   "metadata": {},
   "source": [
    "Exemple 1"
   ]
  },
  {
   "cell_type": "code",
   "execution_count": null,
   "metadata": {},
   "outputs": [],
   "source": [
    "'''A major debate was sparked following the outbreak of the coronavirus epidemic regarding \n",
    "the potential sources of SARS-CoV-2 transmission to humans.\n",
    "\n",
    "The World Health Organization (WHO) suggests that the origin is due to:\n",
    "Animal-to-human transmission (either direct or via an intermediate animal host) at 55%,\n",
    "Transmission through certain frozen foods in the cold chain or a possible laboratory escape at 30%,\n",
    "Direct animal-to-human transmission at 13%.\n",
    "\n",
    "Chinese experts claim that the virus was transmitted from animals to humans through an intermediate animal host at 68%. \n",
    "They also rule out the possibility that the virus escaped from a laboratory.\n",
    "\n",
    "The U.S. administration asserts that a possible laboratory escape is responsible at 75%.\n",
    "\n",
    "The general public remains in total ignorance.'''"
   ]
  },
  {
   "cell_type": "code",
   "execution_count": 28,
   "metadata": {},
   "outputs": [
    {
     "name": "stdout",
     "output_type": "stream",
     "text": [
      "Expert 1\n",
      "m_1 = { {'D,I'}: 0.5, {'T,E'}: 0.3,  {'D'}: 0.15}, Ω: 0.2}\n",
      "m_1 =  {{'D', 'I'}:0.5; {'T', 'E'}:0.3; {'D', 'T', 'I', 'E'}:0.2; {'D'}:0.13}\n",
      "Expert 2\n",
      "m_2 = { {'I'}: 0.68, {'D,I,T'}: 0.32}\n",
      "m_2 =  {{'I'}:0.68; {'D', 'T', 'I'}:0.32}\n",
      "Expert 3\n",
      "m_3 = { {'E'}: 0.75, Ω: 0.25}\n",
      "m_3 =  {{'E'}:0.75; {'D', 'T', 'I', 'E'}:0.25}\n",
      "Expert 4\n",
      "m_4 = { Ω: 1}\n",
      "m_4 =  {{'D', 'T', 'I', 'E'}:1.0}\n"
     ]
    }
   ],
   "source": [
    "from pyds import MassFunction\n",
    "\n",
    "\n",
    "'''\n",
    "Ω={D,I,T,E}\n",
    "D: Direct Transmission from Animal to Human\n",
    "I: Transmission from Animal to Human via an Intermediate Animal Host\n",
    "T: Transmission through certain Frozen Foods in the cold chain\n",
    "E: a possible Escape from a LABoratory'''\n",
    "\n",
    "print(\"Expert 1\")\n",
    "m1 = MassFunction({'DI': 0.5, 'TE': 0.3, 'D': 0.13, 'DITE':0.2}) #DITE is Ω\n",
    "print(\"m_1 = { {'D,I'}: 0.5, {'T,E'}: 0.3,  {'D'}: 0.15}, Ω: 0.2}\")\n",
    "print(\"m_1 = \", m1)\n",
    "\n",
    "print(\"Expert 2\")\n",
    "m2 = MassFunction({'I': 0.68, 'DIT': 0.32})\n",
    "print(\"m_2 = { {'I'}: 0.68, {'D,I,T'}: 0.32}\")\n",
    "print(\"m_2 = \", m2)\n",
    "\n",
    "print(\"Expert 3\")\n",
    "m3 = MassFunction({'E': 0.75, 'DITE': 0.25})\n",
    "print(\"m_3 = { {'E'}: 0.75, Ω: 0.25}\")\n",
    "print(\"m_3 = \", m3)\n",
    "\n",
    "print(\"Expert 4\")\n",
    "m4 = MassFunction({'DITE': 1})\n",
    "print(\"m_4 = { Ω: 1}\")\n",
    "print(\"m_4 = \", m4)\n",
    "\n",
    "\n"
   ]
  },
  {
   "cell_type": "code",
   "execution_count": 8,
   "metadata": {},
   "outputs": [
    {
     "name": "stdout",
     "output_type": "stream",
     "text": [
      "belief and  plausibilit of the first expert\n",
      "bel_1 =  {frozenset(): 0.0, frozenset({'D'}): 0.13, frozenset({'I'}): 0.0, frozenset({'E'}): 0.0, frozenset({'T'}): 0.0, frozenset({'D', 'I'}): 0.63, frozenset({'D', 'E'}): 0.13, frozenset({'D', 'T'}): 0.13, frozenset({'I', 'E'}): 0.0, frozenset({'T', 'I'}): 0.0, frozenset({'T', 'E'}): 0.3, frozenset({'D', 'I', 'E'}): 0.63, frozenset({'D', 'T', 'I'}): 0.63, frozenset({'D', 'T', 'E'}): 0.43, frozenset({'T', 'I', 'E'}): 0.3, frozenset({'D', 'T', 'I', 'E'}): 1.13}\n",
      "pl_1 =  {frozenset(): 0.0, frozenset({'D'}): 0.8300000000000001, frozenset({'I'}): 0.7, frozenset({'E'}): 0.5, frozenset({'T'}): 0.5, frozenset({'D', 'I'}): 0.8300000000000001, frozenset({'D', 'E'}): 1.13, frozenset({'D', 'T'}): 1.13, frozenset({'I', 'E'}): 1.0, frozenset({'T', 'I'}): 1.0, frozenset({'T', 'E'}): 0.5, frozenset({'D', 'I', 'E'}): 1.13, frozenset({'D', 'T', 'I'}): 1.13, frozenset({'D', 'T', 'E'}): 1.13, frozenset({'T', 'I', 'E'}): 1.0, frozenset({'D', 'T', 'I', 'E'}): 1.13}\n",
      "belief and  plausibilit of the second expert\n",
      "bel_2 =  {frozenset(): 0.0, frozenset({'D'}): 0.0, frozenset({'T'}): 0.0, frozenset({'I'}): 0.68, frozenset({'D', 'T'}): 0.0, frozenset({'D', 'I'}): 0.68, frozenset({'I', 'T'}): 0.68, frozenset({'D', 'I', 'T'}): 1.0}\n",
      "pl_2 =  {frozenset(): 0.0, frozenset({'D'}): 0.32, frozenset({'T'}): 0.32, frozenset({'I'}): 1.0, frozenset({'D', 'T'}): 0.32, frozenset({'D', 'I'}): 1.0, frozenset({'I', 'T'}): 1.0, frozenset({'D', 'I', 'T'}): 1.0}\n",
      "belief and  plausibilit of the third expert\n",
      "bel_3 =  {frozenset(): 0.0, frozenset({'D'}): 0.0, frozenset({'I'}): 0.0, frozenset({'E'}): 0.75, frozenset({'T'}): 0.0, frozenset({'D', 'I'}): 0.0, frozenset({'D', 'E'}): 0.75, frozenset({'D', 'T'}): 0.0, frozenset({'I', 'E'}): 0.75, frozenset({'T', 'I'}): 0.0, frozenset({'T', 'E'}): 0.75, frozenset({'D', 'I', 'E'}): 0.75, frozenset({'D', 'T', 'I'}): 0.0, frozenset({'D', 'T', 'E'}): 0.75, frozenset({'T', 'I', 'E'}): 0.75, frozenset({'D', 'T', 'I', 'E'}): 1.0}\n",
      "pl_3 =  {frozenset(): 0.0, frozenset({'D'}): 0.25, frozenset({'I'}): 0.25, frozenset({'E'}): 1.0, frozenset({'T'}): 0.25, frozenset({'D', 'I'}): 0.25, frozenset({'D', 'E'}): 1.0, frozenset({'D', 'T'}): 0.25, frozenset({'I', 'E'}): 1.0, frozenset({'T', 'I'}): 0.25, frozenset({'T', 'E'}): 1.0, frozenset({'D', 'I', 'E'}): 1.0, frozenset({'D', 'T', 'I'}): 0.25, frozenset({'D', 'T', 'E'}): 1.0, frozenset({'T', 'I', 'E'}): 1.0, frozenset({'D', 'T', 'I', 'E'}): 1.0}\n"
     ]
    }
   ],
   "source": [
    "print(\"belief and  plausibilit of the first expert\")\n",
    "print(\"bel_1 = \", m1.bel())\n",
    "print(\"pl_1 = \", m1.pl())\n",
    "\n",
    "print(\"belief and  plausibilit of the second expert\")\n",
    "print(\"bel_2 = \", m2.bel())\n",
    "print(\"pl_2 = \", m2.pl())\n",
    "\n",
    "print(\"belief and  plausibilit of the third expert\")\n",
    "print(\"bel_3 = \", m3.bel())\n",
    "print(\"pl_3 = \", m3.pl())"
   ]
  },
  {
   "cell_type": "code",
   "execution_count": 29,
   "metadata": {},
   "outputs": [
    {
     "name": "stdout",
     "output_type": "stream",
     "text": [
      "Dempster-Shafer combination  rule\n",
      "Dempster-Shafer combination  rule for m_1, m_2 and m_3 = \n",
      "\n",
      "{{'I'}:0.5682903533906399; {'D', 'I'}:0.19102196752626552; {'T'}:0.11461318051575932; {'D', 'I', 'T'}:0.07640878701050621; {'D'}:0.04966571155682904}\n",
      "Dempster-Shafer combination  rule for m_2, m_1 and m_3 = \n",
      "\n",
      "{{'I'}:0.5682903533906399; {'D', 'I'}:0.19102196752626552; {'T'}:0.11461318051575932; {'D', 'I', 'T'}:0.07640878701050621; {'D'}:0.04966571155682904}\n",
      "Dempster-Shafer combination  rule for m_3, m_1 and m_2 = \n",
      "\n",
      "{{'E'}:0.5703422053231939; {'D', 'I'}:0.19011406844106465; {'T', 'E'}:0.11406844106463879; {'D', 'I', 'T', 'E'}:0.07604562737642587; {'D'}:0.04942965779467681}\n"
     ]
    }
   ],
   "source": [
    "print(\"Dempster-Shafer combination  rule\")\n",
    "print(\"Dempster-Shafer combination  rule for m_1, m_2 and m_3 = \\n\") \n",
    "print(m1.combine_conjunctive(m2, m3))\n",
    "print(\"Dempster-Shafer combination  rule for m_2, m_1 and m_3 = \\n\") \n",
    "print(m2.combine_conjunctive(m1, m3))\n",
    "print(\"Dempster-Shafer combination  rule for m_3, m_1 and m_2 = \\n\")  \n",
    "print(m3.combine_conjunctive(m1, m2))"
   ]
  },
  {
   "cell_type": "markdown",
   "metadata": {},
   "source": [
    "Exemple 2"
   ]
  },
  {
   "cell_type": "code",
   "execution_count": null,
   "metadata": {},
   "outputs": [],
   "source": [
    "'''\n",
    "To create a Dempster-Shafer example for predicting the F1 winner with realistic and coherent basis, \n",
    "we can consider recent performance patterns, especially the recent Mexico City Grand Prix, \n",
    "where Ferrari's Carlos Sainz claimed victory, followed by Lando Norris in second and Charles Leclerc in third. \n",
    "Max Verstappen, typically a top performer, was penalized twice and ended up in sixth place, which may affect \n",
    "the likelihood given by some experts regarding his potential to win the next race.\n",
    "\n",
    "\n",
    "Expert 1 believes Max Verstappen will win with 70%. Although Verstappen has consistently been a favorite, \n",
    "his recent penalties and performance issues suggest he might not be as likely to secure the top spot as before. \n",
    "Thus, the probability is a bit lower than before.\n",
    "\n",
    "Expert 2 assigns 50% confidence to Max Verstappen winning but also considers Lando Norris and Charles Leclerc\n",
    "as potential winners, assigning them a combined belief of 40%. This takes into account Norris’s \n",
    "strong second-place finish in Mexico and Leclerc’s respectable third place, indicating they’re both strong contenders.\n",
    "\n",
    "Expert 3 assigns 55% to Carlos Sainz, reflecting his recent victory in Mexico, \n",
    "showing his capability to secure another win. Additionally, this expert assigns 35% to Lewis Hamilton, \n",
    "who has shown resilience and strategic racing skills despite recent struggles.'''"
   ]
  },
  {
   "cell_type": "code",
   "execution_count": 30,
   "metadata": {},
   "outputs": [
    {
     "name": "stdout",
     "output_type": "stream",
     "text": [
      "Expert 1\n",
      "m_1 = { {'M'}: 0.7,  Ω: 0.3}\n",
      "m_1 =  {{'M'}:0.7; {'S', 'H', 'C', 'L', 'M'}:0.3}\n",
      "Expert 2\n",
      "m_2 = { {'M'}: 0.5, {'L,C'}: 0.4} ,  Ω: 0.1}\n",
      "m_2 =  {{'M'}:0.5; {'C', 'L'}:0.4; {'S', 'H', 'C', 'L', 'M'}:0.1}\n",
      "Expert 3\n",
      "m_3 = { {'S'}: 0.55, {'S'}: 0.35, Ω: 0.1}\n",
      "m_3 =  {{'S'}:0.55; {'H'}:0.35; {'S', 'H', 'C', 'L', 'M'}:0.1}\n"
     ]
    }
   ],
   "source": [
    "'''\n",
    "Ω={M,L,C,S,H}\n",
    "M: Max Verstappen winning the race\n",
    "L: Lando Norris will be  the race\n",
    "C: Charles Leclerc is the predicted winner \n",
    "S: Carlos Sainz is the potenial winner \n",
    "H: Lewis Hamilton will be the winner \n",
    "'''\n",
    "\n",
    "print(\"Expert 1\")\n",
    "m1 = MassFunction({'M': 0.7, 'MLCSH': 0.3}) #MLCSH is Ω\n",
    "print(\"m_1 = { {'M'}: 0.7,  Ω: 0.3}\")\n",
    "print(\"m_1 = \", m1)\n",
    "\n",
    "print(\"Expert 2\")\n",
    "m2 = MassFunction({'M': 0.5, 'LC': 0.4, 'MLCSH':0.1})\n",
    "print(\"m_2 = { {'M'}: 0.5, {'L,C'}: 0.4} ,  Ω: 0.1}\")\n",
    "print(\"m_2 = \", m2)\n",
    "\n",
    "print(\"Expert 3\")\n",
    "m3 = MassFunction({'S': 0.55, 'H': 0.35 , 'MLCSH':0.1})\n",
    "print(\"m_3 = { {'S'}: 0.55, {'S'}: 0.35, Ω: 0.1}\")\n",
    "print(\"m_3 = \", m3)"
   ]
  },
  {
   "cell_type": "code",
   "execution_count": 17,
   "metadata": {},
   "outputs": [
    {
     "name": "stdout",
     "output_type": "stream",
     "text": [
      "belief and  plausibilit of the first expert\n",
      "bel_1 =  {frozenset(): 0.0, frozenset({'S'}): 0.0, frozenset({'H'}): 0.0, frozenset({'C'}): 0.0, frozenset({'L'}): 0.0, frozenset({'M'}): 0.7, frozenset({'H', 'S'}): 0.0, frozenset({'C', 'S'}): 0.0, frozenset({'S', 'L'}): 0.0, frozenset({'S', 'M'}): 0.7, frozenset({'H', 'C'}): 0.0, frozenset({'H', 'L'}): 0.0, frozenset({'H', 'M'}): 0.7, frozenset({'C', 'L'}): 0.0, frozenset({'C', 'M'}): 0.7, frozenset({'M', 'L'}): 0.7, frozenset({'H', 'C', 'S'}): 0.0, frozenset({'H', 'S', 'L'}): 0.0, frozenset({'H', 'S', 'M'}): 0.7, frozenset({'C', 'S', 'L'}): 0.0, frozenset({'C', 'S', 'M'}): 0.7, frozenset({'M', 'S', 'L'}): 0.7, frozenset({'H', 'C', 'L'}): 0.0, frozenset({'H', 'C', 'M'}): 0.7, frozenset({'H', 'M', 'L'}): 0.7, frozenset({'M', 'C', 'L'}): 0.7, frozenset({'H', 'C', 'S', 'L'}): 0.0, frozenset({'H', 'C', 'S', 'M'}): 0.7, frozenset({'H', 'M', 'S', 'L'}): 0.7, frozenset({'M', 'C', 'S', 'L'}): 0.7, frozenset({'H', 'C', 'M', 'L'}): 0.7, frozenset({'S', 'H', 'C', 'M', 'L'}): 1.0}\n",
      "pl_1 =  {frozenset(): 0.0, frozenset({'S'}): 0.3, frozenset({'H'}): 0.3, frozenset({'C'}): 0.3, frozenset({'L'}): 0.3, frozenset({'M'}): 1.0, frozenset({'H', 'S'}): 0.3, frozenset({'C', 'S'}): 0.3, frozenset({'S', 'L'}): 0.3, frozenset({'S', 'M'}): 1.0, frozenset({'H', 'C'}): 0.3, frozenset({'H', 'L'}): 0.3, frozenset({'H', 'M'}): 1.0, frozenset({'C', 'L'}): 0.3, frozenset({'C', 'M'}): 1.0, frozenset({'M', 'L'}): 1.0, frozenset({'H', 'C', 'S'}): 0.3, frozenset({'H', 'S', 'L'}): 0.3, frozenset({'H', 'S', 'M'}): 1.0, frozenset({'C', 'S', 'L'}): 0.3, frozenset({'C', 'S', 'M'}): 1.0, frozenset({'M', 'S', 'L'}): 1.0, frozenset({'H', 'C', 'L'}): 0.3, frozenset({'H', 'C', 'M'}): 1.0, frozenset({'H', 'M', 'L'}): 1.0, frozenset({'M', 'C', 'L'}): 1.0, frozenset({'H', 'C', 'S', 'L'}): 0.3, frozenset({'H', 'C', 'S', 'M'}): 1.0, frozenset({'H', 'M', 'S', 'L'}): 1.0, frozenset({'M', 'C', 'S', 'L'}): 1.0, frozenset({'H', 'C', 'M', 'L'}): 1.0, frozenset({'S', 'H', 'C', 'M', 'L'}): 1.0}\n",
      "belief and  plausibilit of the second expert\n",
      "bel_2 =  {frozenset(): 0.0, frozenset({'S'}): 0.0, frozenset({'H'}): 0.0, frozenset({'C'}): 0.0, frozenset({'L'}): 0.0, frozenset({'M'}): 0.5, frozenset({'H', 'S'}): 0.0, frozenset({'C', 'S'}): 0.0, frozenset({'S', 'L'}): 0.0, frozenset({'S', 'M'}): 0.5, frozenset({'H', 'C'}): 0.0, frozenset({'H', 'L'}): 0.0, frozenset({'H', 'M'}): 0.5, frozenset({'C', 'L'}): 0.4, frozenset({'C', 'M'}): 0.5, frozenset({'M', 'L'}): 0.5, frozenset({'H', 'C', 'S'}): 0.0, frozenset({'H', 'S', 'L'}): 0.0, frozenset({'H', 'S', 'M'}): 0.5, frozenset({'C', 'S', 'L'}): 0.4, frozenset({'C', 'S', 'M'}): 0.5, frozenset({'M', 'S', 'L'}): 0.5, frozenset({'H', 'C', 'L'}): 0.4, frozenset({'H', 'C', 'M'}): 0.5, frozenset({'H', 'M', 'L'}): 0.5, frozenset({'M', 'C', 'L'}): 0.9, frozenset({'H', 'C', 'S', 'L'}): 0.4, frozenset({'H', 'C', 'S', 'M'}): 0.5, frozenset({'H', 'M', 'S', 'L'}): 0.5, frozenset({'M', 'C', 'S', 'L'}): 0.9, frozenset({'H', 'C', 'M', 'L'}): 0.9, frozenset({'S', 'H', 'C', 'M', 'L'}): 1.0}\n",
      "pl_2 =  {frozenset(): 0.0, frozenset({'S'}): 0.1, frozenset({'H'}): 0.1, frozenset({'C'}): 0.5, frozenset({'L'}): 0.5, frozenset({'M'}): 0.6, frozenset({'H', 'S'}): 0.1, frozenset({'C', 'S'}): 0.5, frozenset({'S', 'L'}): 0.5, frozenset({'S', 'M'}): 0.6, frozenset({'H', 'C'}): 0.5, frozenset({'H', 'L'}): 0.5, frozenset({'H', 'M'}): 0.6, frozenset({'C', 'L'}): 0.5, frozenset({'C', 'M'}): 1.0, frozenset({'M', 'L'}): 1.0, frozenset({'H', 'C', 'S'}): 0.5, frozenset({'H', 'S', 'L'}): 0.5, frozenset({'H', 'S', 'M'}): 0.6, frozenset({'C', 'S', 'L'}): 0.5, frozenset({'C', 'S', 'M'}): 1.0, frozenset({'M', 'S', 'L'}): 1.0, frozenset({'H', 'C', 'L'}): 0.5, frozenset({'H', 'C', 'M'}): 1.0, frozenset({'H', 'M', 'L'}): 1.0, frozenset({'M', 'C', 'L'}): 1.0, frozenset({'H', 'C', 'S', 'L'}): 0.5, frozenset({'H', 'C', 'S', 'M'}): 1.0, frozenset({'H', 'M', 'S', 'L'}): 1.0, frozenset({'M', 'C', 'S', 'L'}): 1.0, frozenset({'H', 'C', 'M', 'L'}): 1.0, frozenset({'S', 'H', 'C', 'M', 'L'}): 1.0}\n",
      "belief and  plausibilit of the third expert\n",
      "bel_3 =  {frozenset(): 0.0, frozenset({'S'}): 0.55, frozenset({'H'}): 0.35, frozenset({'C'}): 0.0, frozenset({'L'}): 0.0, frozenset({'M'}): 0.0, frozenset({'H', 'S'}): 0.9, frozenset({'C', 'S'}): 0.55, frozenset({'S', 'L'}): 0.55, frozenset({'S', 'M'}): 0.55, frozenset({'H', 'C'}): 0.35, frozenset({'H', 'L'}): 0.35, frozenset({'H', 'M'}): 0.35, frozenset({'C', 'L'}): 0.0, frozenset({'C', 'M'}): 0.0, frozenset({'M', 'L'}): 0.0, frozenset({'H', 'C', 'S'}): 0.9, frozenset({'H', 'S', 'L'}): 0.9, frozenset({'H', 'S', 'M'}): 0.9, frozenset({'C', 'S', 'L'}): 0.55, frozenset({'C', 'S', 'M'}): 0.55, frozenset({'M', 'S', 'L'}): 0.55, frozenset({'H', 'C', 'L'}): 0.35, frozenset({'H', 'C', 'M'}): 0.35, frozenset({'H', 'M', 'L'}): 0.35, frozenset({'M', 'C', 'L'}): 0.0, frozenset({'H', 'C', 'S', 'L'}): 0.9, frozenset({'H', 'C', 'S', 'M'}): 0.9, frozenset({'H', 'M', 'S', 'L'}): 0.9, frozenset({'M', 'C', 'S', 'L'}): 0.55, frozenset({'H', 'C', 'M', 'L'}): 0.35, frozenset({'S', 'H', 'C', 'M', 'L'}): 1.0}\n",
      "pl_3 =  {frozenset(): 0.0, frozenset({'S'}): 0.65, frozenset({'H'}): 0.44999999999999996, frozenset({'C'}): 0.1, frozenset({'L'}): 0.1, frozenset({'M'}): 0.1, frozenset({'H', 'S'}): 1.0, frozenset({'C', 'S'}): 0.65, frozenset({'S', 'L'}): 0.65, frozenset({'S', 'M'}): 0.65, frozenset({'H', 'C'}): 0.44999999999999996, frozenset({'H', 'L'}): 0.44999999999999996, frozenset({'H', 'M'}): 0.44999999999999996, frozenset({'C', 'L'}): 0.1, frozenset({'C', 'M'}): 0.1, frozenset({'M', 'L'}): 0.1, frozenset({'H', 'C', 'S'}): 1.0, frozenset({'H', 'S', 'L'}): 1.0, frozenset({'H', 'S', 'M'}): 1.0, frozenset({'C', 'S', 'L'}): 0.65, frozenset({'C', 'S', 'M'}): 0.65, frozenset({'M', 'S', 'L'}): 0.65, frozenset({'H', 'C', 'L'}): 0.44999999999999996, frozenset({'H', 'C', 'M'}): 0.44999999999999996, frozenset({'H', 'M', 'L'}): 0.44999999999999996, frozenset({'M', 'C', 'L'}): 0.1, frozenset({'H', 'C', 'S', 'L'}): 1.0, frozenset({'H', 'C', 'S', 'M'}): 1.0, frozenset({'H', 'M', 'S', 'L'}): 1.0, frozenset({'M', 'C', 'S', 'L'}): 0.65, frozenset({'H', 'C', 'M', 'L'}): 0.44999999999999996, frozenset({'S', 'H', 'C', 'M', 'L'}): 1.0}\n"
     ]
    }
   ],
   "source": [
    "print(\"belief and  plausibilit of the first expert\")\n",
    "print(\"bel_1 = \", m1.bel())\n",
    "print(\"pl_1 = \", m1.pl())\n",
    "\n",
    "print(\"belief and  plausibilit of the second expert\")\n",
    "print(\"bel_2 = \", m2.bel())\n",
    "print(\"pl_2 = \", m2.pl())\n",
    "\n",
    "print(\"belief and  plausibilit of the third expert\")\n",
    "print(\"bel_3 = \", m3.bel())\n",
    "print(\"pl_3 = \", m3.pl())"
   ]
  },
  {
   "cell_type": "code",
   "execution_count": 31,
   "metadata": {},
   "outputs": [
    {
     "name": "stdout",
     "output_type": "stream",
     "text": [
      "Dempster-Shafer combination  rule for m_1, m_2 and m_3 = \n",
      "\n",
      "{{'M'}:0.7916666666666666; {'C', 'L'}:0.16666666666666666; {'S', 'H', 'C', 'L', 'M'}:0.041666666666666664}\n",
      "Dempster-Shafer combination  rule for m_2, m_1 and m_3 = \n",
      "\n",
      "{{'M'}:0.7916666666666666; {'C', 'L'}:0.16666666666666666; {'S', 'H', 'C', 'L', 'M'}:0.041666666666666664}\n",
      "Dempster-Shafer combination  rule for m_3, m_1 and m_2 = \n",
      "\n",
      "{{'S'}:0.445945945945946; {'H'}:0.28378378378378377; {'M'}:0.18918918918918917; {'S', 'H', 'C', 'L', 'M'}:0.08108108108108109}\n"
     ]
    }
   ],
   "source": [
    "print(\"Dempster-Shafer combination  rule for m_1, m_2 and m_3 = \\n\") \n",
    "print(m1.combine_conjunctive(m2, m3))\n",
    "print(\"Dempster-Shafer combination  rule for m_2, m_1 and m_3 = \\n\") \n",
    "print(m2.combine_conjunctive(m1, m3))\n",
    "print(\"Dempster-Shafer combination  rule for m_3, m_1 and m_2 = \\n\") \n",
    "print(m3.combine_conjunctive(m1, m2))"
   ]
  }
 ],
 "metadata": {
  "kernelspec": {
   "display_name": "Python 3",
   "language": "python",
   "name": "python3"
  },
  "language_info": {
   "codemirror_mode": {
    "name": "ipython",
    "version": 3
   },
   "file_extension": ".py",
   "mimetype": "text/x-python",
   "name": "python",
   "nbconvert_exporter": "python",
   "pygments_lexer": "ipython3",
   "version": "3.10.7"
  }
 },
 "nbformat": 4,
 "nbformat_minor": 2
}
