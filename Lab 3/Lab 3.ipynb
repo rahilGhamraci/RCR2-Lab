{
 "cells": [
  {
   "cell_type": "code",
   "execution_count": 1,
   "metadata": {},
   "outputs": [],
   "source": [
    "from pgmpy.factors.discrete import TabularCPD\n",
    "from pgmpy.models import BayesianNetwork"
   ]
  },
  {
   "cell_type": "code",
   "execution_count": 3,
   "metadata": {},
   "outputs": [
    {
     "data": {
      "text/plain": [
       "[<TabularCPD representing P(C:2) at 0x1ffb440fca0>,\n",
       " <TabularCPD representing P(S:2) at 0x1ffb440e440>,\n",
       " <TabularCPD representing P(R:2 | S:2) at 0x1ffb440e6b0>,\n",
       " <TabularCPD representing P(T:2 | R:2) at 0x1ffb440ea70>,\n",
       " <TabularCPD representing P(A:2 | C:2, S:2) at 0x1ffb440f160>]"
      ]
     },
     "execution_count": 3,
     "metadata": {},
     "output_type": "execute_result"
    }
   ],
   "source": [
    "\n",
    "'''\n",
    "Cambriolage : C\n",
    "Seisme : S\n",
    "Alarme : A\n",
    "Radio : R\n",
    "Television : T\n",
    "\n",
    "'''\n",
    "alarm_model = BayesianNetwork([\n",
    "    ('C','A'),\n",
    "    ('S','A'),\n",
    "    ('S','R'),\n",
    "    ('R','T'),\n",
    "])\n",
    "\n",
    "#Définition des relations\n",
    "cambriolage_cpd= TabularCPD(\n",
    "    variable='C',\n",
    "    variable_card= 2,\n",
    "    values=[[.001], [.999]]\n",
    ")\n",
    "seisme_cpd= TabularCPD(\n",
    "    variable='S',\n",
    "    variable_card= 2,\n",
    "    values=[[.0001], [.9999]]\n",
    ")\n",
    "radio_cpd= TabularCPD(\n",
    "    variable='R',\n",
    "    variable_card=2,\n",
    "    values=[[.99,.01],\n",
    "    [.01,.99]],\n",
    "    evidence=['S'],\n",
    "    evidence_card=[2]\n",
    ")\n",
    "\n",
    "television_cpd= TabularCPD(\n",
    "    variable='T',\n",
    "    variable_card=2,\n",
    "    values=[[.99,.50],\n",
    "    [.01,.50]],\n",
    "    evidence=['R'],\n",
    "    evidence_card=[2]\n",
    ")\n",
    "\n",
    "alarm_cpd= TabularCPD(\n",
    "    variable='A',\n",
    "    variable_card=2,\n",
    "    values=[[.75,.10,.99,.1], [.25,.90,.01,.90]],\n",
    "    evidence=['C','S'],\n",
    "    evidence_card=[2,2]\n",
    ")\n",
    "\n",
    "alarm_model.add_cpds(cambriolage_cpd,\n",
    "seisme_cpd,radio_cpd,television_cpd,alarm_cpd)\n",
    "\n",
    "alarm_model.get_cpds()"
   ]
  },
  {
   "cell_type": "code",
   "execution_count": 4,
   "metadata": {},
   "outputs": [],
   "source": [
    "from pgmpy.inference import VariableElimination\n",
    "\n",
    "alarm_infer = VariableElimination(alarm_model)"
   ]
  },
  {
   "cell_type": "code",
   "execution_count": 5,
   "metadata": {},
   "outputs": [
    {
     "name": "stdout",
     "output_type": "stream",
     "text": [
      "+------+----------+\n",
      "| C    |   phi(C) |\n",
      "+======+==========+\n",
      "| C(0) |   0.0010 |\n",
      "+------+----------+\n",
      "| C(1) |   0.9990 |\n",
      "+------+----------+\n"
     ]
    }
   ],
   "source": [
    "prob_cambriolage = alarm_infer.query(variables=['C'])\n",
    "print(prob_cambriolage)"
   ]
  },
  {
   "cell_type": "code",
   "execution_count": 6,
   "metadata": {},
   "outputs": [
    {
     "name": "stdout",
     "output_type": "stream",
     "text": [
      "+------+----------+\n",
      "| T    |   phi(T) |\n",
      "+======+==========+\n",
      "| T(0) |   0.5049 |\n",
      "+------+----------+\n",
      "| T(1) |   0.4951 |\n",
      "+------+----------+\n"
     ]
    }
   ],
   "source": [
    "prob_television = alarm_infer.query(variables=['T'])\n",
    "print(prob_television)"
   ]
  },
  {
   "cell_type": "code",
   "execution_count": 7,
   "metadata": {},
   "outputs": [
    {
     "name": "stdout",
     "output_type": "stream",
     "text": [
      "+------+----------+\n",
      "| A    |   phi(A) |\n",
      "+======+==========+\n",
      "| A(0) |   0.1001 |\n",
      "+------+----------+\n",
      "| A(1) |   0.8999 |\n",
      "+------+----------+\n"
     ]
    }
   ],
   "source": [
    "#probabilité d'activer l'alarme si il y'a un Cambriolage\n",
    "proba_alarm_cambriolage = alarm_infer.query(variables=['A'], evidence= {'C':1}) \n",
    "print(proba_alarm_cambriolage)"
   ]
  },
  {
   "cell_type": "code",
   "execution_count": 8,
   "metadata": {},
   "outputs": [
    {
     "name": "stdout",
     "output_type": "stream",
     "text": [
      "+------+----------+\n",
      "| T    |   phi(T) |\n",
      "+======+==========+\n",
      "| T(0) |   0.5000 |\n",
      "+------+----------+\n",
      "| T(1) |   0.5000 |\n",
      "+------+----------+\n"
     ]
    }
   ],
   "source": [
    "proba_television_radio_seisme = alarm_infer.query(variables=['T'], evidence= {'R':1, 'S':1}) \n",
    "print(proba_television_radio_seisme)"
   ]
  },
  {
   "cell_type": "markdown",
   "metadata": {},
   "source": [
    "Etape 2"
   ]
  },
  {
   "cell_type": "code",
   "execution_count": null,
   "metadata": {},
   "outputs": [
    {
     "data": {
      "text/plain": [
       "[<TabularCPD representing P(V:2) at 0x1ffa1f3fa30>,\n",
       " <TabularCPD representing P(S:2) at 0x1ffb68d89a0>,\n",
       " <TabularCPD representing P(T:2 | V:2) at 0x1ffb68d85b0>,\n",
       " <TabularCPD representing P(B:2 | S:2) at 0x1ffb68d8940>,\n",
       " <TabularCPD representing P(TL:2 | L:2, T:2) at 0x1ffb68d85e0>,\n",
       " <TabularCPD representing P(D:2 | TL:2, B:2) at 0x1ffb68d88b0>,\n",
       " <TabularCPD representing P(X:2 | TL:2) at 0x1ffb68db940>,\n",
       " <TabularCPD representing P(L:2 | S:2) at 0x1ffb68db970>]"
      ]
     },
     "execution_count": 13,
     "metadata": {},
     "output_type": "execute_result"
    }
   ],
   "source": [
    "\n",
    "'''\n",
    "Smoking : S\n",
    "Visit to Asia : V\n",
    "Tuberculosis : T\n",
    "Lung cancer : L\n",
    "Bronchitis : B\n",
    "Xray : X\n",
    "tub. or lung cancer : TL\n",
    "Dyspnoea : D\n",
    "\n",
    "'''\n",
    "medical_model = BayesianNetwork([\n",
    "    ('V','T'),\n",
    "    ('S','L'),\n",
    "    ('S','B'),\n",
    "    ('T','TL'),\n",
    "    ('L','TL'),\n",
    "    ('TL','X'),\n",
    "    ('B','D'),\n",
    "    ('TL','D'),\n",
    "])\n",
    "\n",
    "#Définition des relations\n",
    "visit_asia_cpd= TabularCPD(\n",
    "    variable='V',\n",
    "    variable_card= 2,\n",
    "    values=[[.99], [.01]]\n",
    ")\n",
    "smoking_cpd= TabularCPD(\n",
    "    variable='S',\n",
    "    variable_card= 2,\n",
    "    values=[[.5], [.5]]\n",
    ")\n",
    "tuberculosis_cpd= TabularCPD(\n",
    "    variable='T',\n",
    "    variable_card=2,\n",
    "    values=[[0.99,0.95],\n",
    "    [.01,.05]],\n",
    "    evidence=['V'],\n",
    "    evidence_card=[2]\n",
    ")\n",
    "lung_cancer_cpd= TabularCPD(\n",
    "    variable='L',\n",
    "    variable_card=2,\n",
    "    values=[[.99,.90],\n",
    "    [.01,.10]],\n",
    "    evidence=['S'],\n",
    "    evidence_card=[2]\n",
    ")\n",
    "bronchitis_cpd= TabularCPD(\n",
    "    variable='B',\n",
    "    variable_card=2,\n",
    "    values=[[.7,.4],\n",
    "    [.3,.6]],\n",
    "    evidence=['S'],\n",
    "    evidence_card=[2]\n",
    ")\n",
    "lung_cancer_tuberculosis_cpd= TabularCPD(\n",
    "    variable='TL',\n",
    "    variable_card=2,\n",
    "    values=[[1.0,.0,.0,.0],\n",
    "    [0,1.0,1.0,1.0]],\n",
    "    evidence=['L','T'],\n",
    "    evidence_card=[2,2]\n",
    ")\n",
    "dyspnoea_cpd= TabularCPD(\n",
    "    variable='D',\n",
    "    variable_card=2,\n",
    "    values=[[.9,.2,.3,.1], [.1,.8,.7,.9]],\n",
    "    evidence=['TL','B'],\n",
    "    evidence_card=[2,2]\n",
    ")\n",
    "\n",
    "xray_cpd= TabularCPD(\n",
    "    variable='X',\n",
    "    variable_card=2,\n",
    "    values=[[.95,.02],\n",
    "    [.05,.98]],\n",
    "    evidence=['TL'],\n",
    "    evidence_card=[2]\n",
    ")\n",
    "\n",
    "medical_model.add_cpds(visit_asia_cpd,smoking_cpd,\n",
    "tuberculosis_cpd,bronchitis_cpd,\n",
    "lung_cancer_tuberculosis_cpd,\n",
    "dyspnoea_cpd,xray_cpd,lung_cancer_cpd)\n",
    "\n",
    "medical_model.get_cpds()"
   ]
  },
  {
   "cell_type": "code",
   "execution_count": null,
   "metadata": {},
   "outputs": [
    {
     "name": "stdout",
     "output_type": "stream",
     "text": [
      "+------+----------+\n",
      "| V    |   phi(V) |\n",
      "+======+==========+\n",
      "| V(0) |   0.9900 |\n",
      "+------+----------+\n",
      "| V(1) |   0.0100 |\n",
      "+------+----------+\n",
      "\n",
      "\n",
      "+------+----------+\n",
      "| T    |   phi(T) |\n",
      "+======+==========+\n",
      "| T(0) |   0.9500 |\n",
      "+------+----------+\n",
      "| T(1) |   0.0500 |\n",
      "+------+----------+\n",
      "\n",
      "\n",
      "+------+----------+\n",
      "| D    |   phi(D) |\n",
      "+======+==========+\n",
      "| D(0) |   0.2000 |\n",
      "+------+----------+\n",
      "| D(1) |   0.8000 |\n",
      "+------+----------+\n"
     ]
    }
   ],
   "source": [
    "medical_infer = VariableElimination(medical_model)\n",
    "prob_visit_asia= medical_infer.query(variables=['V'])\n",
    "print(prob_visit_asia)\n",
    "print('\\n')\n",
    "proba_tub_visit = medical_infer.query(variables=['T'], evidence= {'V':1}) \n",
    "print(proba_tub_visit)\n",
    "print('\\n')\n",
    "proba_dyspnoea_tub_lung_bronchitis = medical_infer.query(\n",
    "    variables=['D'], evidence= {'B':1, 'TL':0}) \n",
    "print(proba_dyspnoea_tub_lung_bronchitis)"
   ]
  },
  {
   "cell_type": "code",
   "execution_count": null,
   "metadata": {},
   "outputs": [
    {
     "name": "stdout",
     "output_type": "stream",
     "text": [
      "Simplified F1 Bayesian Network successfully defined!\n"
     ]
    }
   ],
   "source": [
    "'''\n",
    "Track Condition : T\n",
    "Speed : S\n",
    "Accident : A\n",
    "Fatigue : F\n",
    "Lap Time : L\n",
    "\n",
    "'''\n",
    "\n",
    "# Defining the structure of the Bayesian Network\n",
    "f1_model = BayesianNetwork([\n",
    "    ('T', 'S'),  # Track Condition affects Speed\n",
    "    ('T', 'A'),  # Track Condition affects Accident\n",
    "    ('F', 'A'),  # Fatigue affects Accident\n",
    "    ('S', 'A'),  # Speed affects Accident\n",
    "    ('S', 'L')   # Speed affects Lap Time\n",
    "])\n",
    "\n",
    "# Define the CPDs\n",
    "track_condition_cpd = TabularCPD(\n",
    "    variable='T', variable_card=2,\n",
    "    values=[[0.9], [0.1]]  # Example: 90% chance of good track condition,\n",
    "     # 10% chance of bad track condition\n",
    ")\n",
    "\n",
    "fatigue_cpd = TabularCPD(\n",
    "    variable='F', variable_card=2,\n",
    "    values=[[0.85], [0.15]]  # Example: 85% chance of no fatigue, \n",
    "    #15% chance of fatigue\n",
    ")\n",
    "\n",
    "speed_cpd = TabularCPD(\n",
    "    variable='S', variable_card=2,\n",
    "    values=[[0.8, 0.4], [0.2, 0.6]],  # Speed depends on Track Condition\n",
    "    evidence=['T'], evidence_card=[2]\n",
    ")\n",
    "\n",
    "accident_cpd = TabularCPD(\n",
    "    variable='A', variable_card=2,\n",
    "    values=[\n",
    "        # Evidence: Track Condition (T), Fatigue (F), Speed (S)\n",
    "        [0.99, 0.9, 0.8, 0.5, 0.6, 0.4, 0.3, 0.1],  # No Accident\n",
    "        [0.01, 0.1, 0.2, 0.5, 0.4, 0.6, 0.7, 0.9]   # Accident\n",
    "    ],\n",
    "    evidence=['T', 'F', 'S'],\n",
    "    evidence_card=[2, 2, 2]\n",
    ")\n",
    "lap_time_cpd = TabularCPD(\n",
    "    variable='L', variable_card=2,\n",
    "    values=[\n",
    "        [0.7, 0.4],  # Good Speed improves Lap Time\n",
    "        [0.3, 0.6]   # Poor Speed worsens Lap Time\n",
    "    ],\n",
    "    evidence=['S'], evidence_card=[2]\n",
    ")\n",
    "# Adding the CPDs to the model\n",
    "f1_model.add_cpds(track_condition_cpd, fatigue_cpd,\n",
    "                   speed_cpd, accident_cpd, lap_time_cpd)\n",
    "# Validating the model\n",
    "assert f1_model.check_model()\n",
    "print(\"Simplified F1 Bayesian Network successfully defined!\")\n",
    "f1_model.get_cpds()\n"
   ]
  },
  {
   "cell_type": "code",
   "execution_count": null,
   "metadata": {},
   "outputs": [
    {
     "name": "stdout",
     "output_type": "stream",
     "text": [
      "+------+----------+\n",
      "| T    |   phi(T) |\n",
      "+======+==========+\n",
      "| T(0) |   0.9000 |\n",
      "+------+----------+\n",
      "| T(1) |   0.1000 |\n",
      "+------+----------+\n",
      "\n",
      "\n",
      "+------+----------+\n",
      "| A    |   phi(A) |\n",
      "+======+==========+\n",
      "| A(0) |   0.4800 |\n",
      "+------+----------+\n",
      "| A(1) |   0.5200 |\n",
      "+------+----------+\n"
     ]
    }
   ],
   "source": [
    "f1_infer = VariableElimination(f1_model)\n",
    "prob_track= f1_infer.query(variables=['T'])\n",
    "print(prob_track)\n",
    "print('\\n')\n",
    "proba_accident = f1_infer.query(variables=['A'], evidence= {'T':1, 'F':0}) \n",
    "print(proba_accident)"
   ]
  }
 ],
 "metadata": {
  "kernelspec": {
   "display_name": "Python 3",
   "language": "python",
   "name": "python3"
  },
  "language_info": {
   "codemirror_mode": {
    "name": "ipython",
    "version": 3
   },
   "file_extension": ".py",
   "mimetype": "text/x-python",
   "name": "python",
   "nbconvert_exporter": "python",
   "pygments_lexer": "ipython3",
   "version": "3.10.7"
  }
 },
 "nbformat": 4,
 "nbformat_minor": 2
}
